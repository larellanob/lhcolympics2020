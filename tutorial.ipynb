{
 "cells": [
  {
   "cell_type": "code",
   "execution_count": 1,
   "metadata": {
    "scrolled": false
   },
   "outputs": [],
   "source": [
    "from __future__ import print_function, division\n",
    "import pandas\n",
    "import matplotlib.pyplot as plt\n",
    "import h5py\n",
    "import numpy as np"
   ]
  },
  {
   "cell_type": "code",
   "execution_count": 64,
   "metadata": {},
   "outputs": [],
   "source": [
    "# ruta del archivo. tienen que cambiarla\n",
    "filename = '/home/luciano/Physics/LHCOlympics2020/events_anomalydetection.h5'"
   ]
  },
  {
   "cell_type": "code",
   "execution_count": 3,
   "metadata": {},
   "outputs": [
    {
     "name": "stdout",
     "output_type": "stream",
     "text": [
      "(11000, 2101)\n"
     ]
    }
   ],
   "source": [
    "# lee 11000 lineas solamente\n",
    "datafile_test = pandas.read_hdf(filename,stop=11000)\n",
    "# entrega la 'forma' del archivo de datos (filas, columnas)\n",
    "print(datafile_test.shape)"
   ]
  },
  {
   "cell_type": "code",
   "execution_count": 4,
   "metadata": {},
   "outputs": [
    {
     "name": "stdout",
     "output_type": "stream",
     "text": [
      "Memory used by this (in GB) 0.172272324562\n"
     ]
    }
   ],
   "source": [
    "# esto da una idea de cuanta memoria se necesitaria para cargar en memoria el archivo *completo*\n",
    "print(\"Memory used by this (in GB)\",sum(datafile_test.memory_usage(deep=True))/(1024**3))"
   ]
  },
  {
   "cell_type": "code",
   "execution_count": 5,
   "metadata": {},
   "outputs": [],
   "source": [
    "# esto creo que loopea por sobre todo el archivo\n",
    "# habia leido que era un 'yield' en python, pero ya se me olvido, era como importante\n",
    "def generator(filename, chunksize=32,total_size=1100000):\n",
    "    i = 0\n",
    "    print(\"working\")\n",
    "    while True:\n",
    "        yield pandas.read_hdf(filename, start=i*chunksize, stop=(i+1)*chunksize)\n",
    "        i+=1\n",
    "        if (i+1)*chunksize > total_size:\n",
    "            i = 0"
   ]
  },
  {
   "cell_type": "code",
   "execution_count": 6,
   "metadata": {},
   "outputs": [],
   "source": [
    "gen = generator(filename)"
   ]
  },
  {
   "cell_type": "code",
   "execution_count": 7,
   "metadata": {},
   "outputs": [],
   "source": [
    "#############################\n",
    "#############################\n",
    "# ahora el ejemplo de pyjet\n",
    "# OJO: pyjet no funciona con Python 3.7\n",
    "# 3.6 funciona bien\n",
    "from pyjet import cluster,DTYPE_PTEPM"
   ]
  },
  {
   "cell_type": "code",
   "execution_count": 8,
   "metadata": {},
   "outputs": [
    {
     "data": {
      "text/plain": [
       "(2101, 11000)"
      ]
     },
     "execution_count": 8,
     "metadata": {},
     "output_type": "execute_result"
    }
   ],
   "source": [
    "# transpuesta (?)\n",
    "events_combined = datafile_test.T\n",
    "np.shape(events_combined)"
   ]
  },
  {
   "cell_type": "code",
   "execution_count": 9,
   "metadata": {},
   "outputs": [
    {
     "data": {
      "text/plain": [
       "(2101, 11000)"
      ]
     },
     "execution_count": 9,
     "metadata": {},
     "output_type": "execute_result"
    }
   ],
   "source": [
    "# esto tambien funciona, pandas tiene su propia funcion 'shape'\n",
    "events_combined.shape"
   ]
  },
  {
   "cell_type": "code",
   "execution_count": null,
   "metadata": {},
   "outputs": [],
   "source": []
  },
  {
   "cell_type": "code",
   "execution_count": null,
   "metadata": {},
   "outputs": [],
   "source": []
  },
  {
   "cell_type": "code",
   "execution_count": 48,
   "metadata": {},
   "outputs": [
    {
     "name": "stdout",
     "output_type": "stream",
     "text": [
      "background 0\n",
      "background 100\n",
      "background 200\n",
      "background 300\n",
      "background 400\n",
      "background 500\n",
      "background 600\n",
      "background 700\n",
      "background 800\n",
      "background 900\n",
      "background 1000\n",
      "signal 0\n",
      "signal 100\n",
      "signal 200\n",
      "signal 300\n",
      "signal 400\n",
      "signal 500\n",
      "signal 600\n",
      "signal 700\n",
      "signal 800\n",
      "signal 900\n",
      "signal 1000\n"
     ]
    }
   ],
   "source": [
    "# CLUSTERING\n",
    "# esta parte reconstruye los jets a partir de las particulas individuales\n",
    "leadPt = {}\n",
    "alljets= {}\n",
    "\n",
    "# MUY INEFICIENTE\n",
    "# pero se corre una vez no mas\n",
    "for mytype in ['background','signal']:\n",
    "    leadPt[mytype]=[]\n",
    "    alljets[mytype]=[]\n",
    "    # leamos 1100 eventos (10%)\n",
    "    for i in range(1100):\n",
    "        # para revisar de vez en cuando que esta haciendo\n",
    "        if (i%100==0):\n",
    "            print(mytype,i)\n",
    "            pass\n",
    "        # la ultima columna del archivo te dice si es senal (1) or bkg (0)\n",
    "        issignal = events_combined[i][2100]\n",
    "        # esto seguro que se puede hacer mas eficientemente, esta recorriendo todo el archivo dos veces (?)\n",
    "        if ( mytype == 'background' and issignal ):\n",
    "            continue\n",
    "        elif ( mytype == 'signal' and issignal==0 ):\n",
    "            continue\n",
    "        \n",
    "        # arreglo 2dim lleno de ceros, despues llena con las particulas\n",
    "        pseudojets_input = np.zeros(len([x for x in events_combined[i][::3] if x > 0]), dtype=DTYPE_PTEPM)\n",
    "        for j in range(700):\n",
    "            # if equals zero, there's no more particles! stop reading!\n",
    "            if ( events_combined[i][j*3] > 0) :\n",
    "                pseudojets_input[j]['pT'] = events_combined[i][j*3]\n",
    "                pseudojets_input[j]['eta'] = events_combined[i][j*3+1]\n",
    "                pseudojets_input[j]['phi'] = events_combined[i][j*3+2]\n",
    "            else :\n",
    "                break\n",
    "        # este es el clustering en si!\n",
    "        # habria que leer la documentacion de 'pyjet'\n",
    "        sequence = cluster(pseudojets_input, R=1.0, p=-1)\n",
    "        # corte de pt (?)\n",
    "        jets = sequence.inclusive_jets(ptmin=20)\n",
    "        # la funcion de clustering seguramente ordena los jets\n",
    "        # miembro pt, tambien debe haber eta y phi seguramennte\n",
    "        leadPt[mytype]  += [jets[0].pt]\n",
    "        alljets[mytype] += [jets]\n",
    "        pass"
   ]
  },
  {
   "cell_type": "code",
   "execution_count": 49,
   "metadata": {},
   "outputs": [
    {
     "data": {
      "text/plain": [
       "(2, 2, 103, 997, 103, 997)"
      ]
     },
     "execution_count": 49,
     "metadata": {},
     "output_type": "execute_result"
    }
   ],
   "source": [
    "# revisemos algunos valores\n",
    "len(leadPt),len(alljets),len(leadPt['signal']),len(leadPt['background']),len(alljets['signal']),len(alljets['background'])"
   ]
  },
  {
   "cell_type": "code",
   "execution_count": 56,
   "metadata": {},
   "outputs": [
    {
     "name": "stdout",
     "output_type": "stream",
     "text": [
      "4 2 2\n"
     ]
    }
   ],
   "source": [
    "# output (2, 2, 93, 907, 93, 907)\n",
    "# dos arreglos, uno para los leadPt (solo guarda el jet con mayor pT) y otro para alljets (guarda todo el jet)\n",
    "# ambos tienen subarreglos \"signal\" y \"background\"\n",
    "# signal tiene 103 eventos\n",
    "# background 997 eventos\n",
    "\n",
    "# cuantos pseudojets tienen los primeros 3 jets de senal?\n",
    "print(len(alljets['signal'][0]), len(alljets['signal'][1]), len(alljets['signal'][2]))"
   ]
  },
  {
   "cell_type": "code",
   "execution_count": 53,
   "metadata": {},
   "outputs": [
    {
     "name": "stdout",
     "output_type": "stream",
     "text": [
      "1210.41578692 1787.62557329 1368.77625534\n"
     ]
    }
   ],
   "source": [
    "# los leading pT de 3 eventos de senal:\n",
    "print(leadPt['signal'][0], leadPt['signal'][1], leadPt['signal'][2])\n"
   ]
  },
  {
   "cell_type": "code",
   "execution_count": 57,
   "metadata": {
    "scrolled": true
   },
   "outputs": [
    {
     "name": "stdout",
     "output_type": "stream",
     "text": [
      "26 5\n",
      "45 6\n",
      "64 5\n",
      "69 6\n",
      "75 7\n",
      "90 5\n",
      "92 5\n"
     ]
    }
   ],
   "source": [
    "# ok ahora muestrame todos los jets de senal que tengan mas de 4 pseudojets, y cuantos tienen en total\n",
    "for i in range(len(alljets['signal'])):\n",
    "    if (len(alljets['signal'][i]) > 4):\n",
    "        print(i,len(alljets['signal'][i]))"
   ]
  },
  {
   "cell_type": "code",
   "execution_count": 58,
   "metadata": {},
   "outputs": [
    {
     "name": "stdout",
     "output_type": "stream",
     "text": [
      "[PseudoJet(pt=1740.437, eta=0.847, phi=1.077, mass=113.388), PseudoJet(pt=1717.329, eta=0.351, phi=-2.043, mass=591.818), PseudoJet(pt=47.271, eta=-0.581, phi=-1.504, mass=9.843), PseudoJet(pt=32.793, eta=1.627, phi=-1.862, mass=8.479), PseudoJet(pt=20.808, eta=-2.720, phi=-2.543, mass=9.917)]\n"
     ]
    }
   ],
   "source": [
    "# y ahora dime para el evento 26 de senal, cuales son las caracteristicas de los 5 pseudojets\n",
    "print(alljets['signal'][26])"
   ]
  },
  {
   "cell_type": "code",
   "execution_count": 59,
   "metadata": {},
   "outputs": [
    {
     "name": "stdout",
     "output_type": "stream",
     "text": [
      "PseudoJet(pt=1740.437, eta=0.847, phi=1.077, mass=113.388)\n"
     ]
    }
   ],
   "source": [
    "# muestrame el primero solamente\n",
    "print(alljets['signal'][26][0])"
   ]
  },
  {
   "cell_type": "code",
   "execution_count": 44,
   "metadata": {},
   "outputs": [
    {
     "name": "stdout",
     "output_type": "stream",
     "text": [
      "1740.43749182\n"
     ]
    }
   ],
   "source": [
    "# claro, este es el jet con leading pt. 1740.437 deberia ser lo mismo en el otro arreglo\n",
    "print(leadPt['signal'][26])"
   ]
  },
  {
   "cell_type": "code",
   "execution_count": 45,
   "metadata": {},
   "outputs": [
    {
     "data": {
      "image/png": "[encoded data removed]",
      "text/plain": [
       "<Figure size 432x288 with 1 Axes>"
      ]
     },
     "metadata": {
      "needs_background": "light"
     },
     "output_type": "display_data"
    },
    {
     "data": {
      "text/plain": [
       "<Figure size 432x288 with 0 Axes>"
      ]
     },
     "metadata": {},
     "output_type": "display_data"
    }
   ],
   "source": [
    "# Plotting\n",
    "fig = plt.figure()\n",
    "ax = fig.add_subplot(1, 1, 1)\n",
    "n,b,p = plt.hist(leadPt['background'], bins=50, facecolor='r', alpha=0.2,label='background')\n",
    "plt.hist(leadPt['signal'], bins=b, facecolor='b', alpha=0.2,label='signal')\n",
    "plt.xlabel(r'Leading jet $p_{T}$ [GeV]')\n",
    "plt.ylabel('Number of events')\n",
    "plt.legend(loc='upper right')\n",
    "plt.show()\n",
    "plt.savefig(\"leadjetpt.pdf\")\n",
    "# con mas eventos se veria mas boni"
   ]
  },
  {
   "cell_type": "code",
   "execution_count": 60,
   "metadata": {},
   "outputs": [],
   "source": [
    "# esto es como para meterse mas al archivo en si\n",
    "# hice esto hace tiempo (el 18 de octubre para ser mas preciso) asi que no me acuerdo\n",
    "datafile_h5py = h5py.File(filename,'r')"
   ]
  },
  {
   "cell_type": "code",
   "execution_count": 61,
   "metadata": {},
   "outputs": [
    {
     "data": {
      "text/plain": [
       "[u'df']"
      ]
     },
     "execution_count": 61,
     "metadata": {},
     "output_type": "execute_result"
    }
   ],
   "source": [
    "list(datafile_h5py.keys())"
   ]
  },
  {
   "cell_type": "code",
   "execution_count": 62,
   "metadata": {},
   "outputs": [
    {
     "data": {
      "text/plain": [
       "[u'axis0', u'axis1', u'block0_items', u'block0_values']"
      ]
     },
     "execution_count": 62,
     "metadata": {},
     "output_type": "execute_result"
    }
   ],
   "source": [
    "list(datafile_h5py['df'].keys())"
   ]
  },
  {
   "cell_type": "code",
   "execution_count": 63,
   "metadata": {},
   "outputs": [
    {
     "name": "stdout",
     "output_type": "stream",
     "text": [
      "(2101,)\n",
      "(1100000,)\n",
      "(2101,)\n",
      "(1100000, 2101)\n"
     ]
    }
   ],
   "source": [
    "for i in list(datafile_h5py['df'].keys()):\n",
    "    print(datafile_h5py['df'][i].shape)\n",
    "    "
   ]
  },
  {
   "cell_type": "code",
   "execution_count": null,
   "metadata": {},
   "outputs": [],
   "source": []
  }
 ],
 "metadata": {
  "kernelspec": {
   "display_name": "Python 2",
   "language": "python",
   "name": "python2"
  },
  "language_info": {
   "codemirror_mode": {
    "name": "ipython",
    "version": 2
   },
   "file_extension": ".py",
   "mimetype": "text/x-python",
   "name": "python",
   "nbconvert_exporter": "python",
   "pygments_lexer": "ipython2",
   "version": "2.7.16"
  }
 },
 "nbformat": 4,
 "nbformat_minor": 2
}
